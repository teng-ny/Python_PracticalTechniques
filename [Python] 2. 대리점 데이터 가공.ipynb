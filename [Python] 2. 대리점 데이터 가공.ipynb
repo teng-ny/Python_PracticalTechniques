{
 "cells": [
  {
   "cell_type": "markdown",
   "id": "976669bc",
   "metadata": {},
   "source": [
    "## 분석목표\n",
    "- '지저분한' 데이터를 처리하는 경험을 쌓고, 실제 현장에서 여러가지 상황에 대처할 수 있는 능력 키우기"
   ]
  },
  {
   "cell_type": "markdown",
   "id": "bea8c178",
   "metadata": {},
   "source": [
    "## 데이터 읽기"
   ]
  },
  {
   "cell_type": "code",
   "execution_count": 1,
   "id": "269c611f",
   "metadata": {},
   "outputs": [
    {
     "name": "stderr",
     "output_type": "stream",
     "text": [
      "C:\\Users\\taeeu\\anaconda3\\lib\\site-packages\\numpy\\_distributor_init.py:30: UserWarning: loaded more than 1 DLL from .libs:\n",
      "C:\\Users\\taeeu\\anaconda3\\lib\\site-packages\\numpy\\.libs\\libopenblas.el2c6ple4zyw3eceviv3oxxgrn2nrfm2.gfortran-win_amd64.dll\n",
      "C:\\Users\\taeeu\\anaconda3\\lib\\site-packages\\numpy\\.libs\\libopenblas.WCDJNK7YVMPZQ2ME2ZZHJJRJ3JIKNDB7.gfortran-win_amd64.dll\n",
      "  warnings.warn(\"loaded more than 1 DLL from .libs:\"\n"
     ]
    },
    {
     "data": {
      "text/html": [
       "<div>\n",
       "<style scoped>\n",
       "    .dataframe tbody tr th:only-of-type {\n",
       "        vertical-align: middle;\n",
       "    }\n",
       "\n",
       "    .dataframe tbody tr th {\n",
       "        vertical-align: top;\n",
       "    }\n",
       "\n",
       "    .dataframe thead th {\n",
       "        text-align: right;\n",
       "    }\n",
       "</style>\n",
       "<table border=\"1\" class=\"dataframe\">\n",
       "  <thead>\n",
       "    <tr style=\"text-align: right;\">\n",
       "      <th></th>\n",
       "      <th>purchase_date</th>\n",
       "      <th>item_name</th>\n",
       "      <th>item_price</th>\n",
       "      <th>customer_name</th>\n",
       "    </tr>\n",
       "  </thead>\n",
       "  <tbody>\n",
       "    <tr>\n",
       "      <th>0</th>\n",
       "      <td>2019-06-13 18:02</td>\n",
       "      <td>상품A</td>\n",
       "      <td>100.0</td>\n",
       "      <td>김가온</td>\n",
       "    </tr>\n",
       "    <tr>\n",
       "      <th>1</th>\n",
       "      <td>2019-07-13 13:05</td>\n",
       "      <td>상 품 S</td>\n",
       "      <td>NaN</td>\n",
       "      <td>김우찬</td>\n",
       "    </tr>\n",
       "    <tr>\n",
       "      <th>2</th>\n",
       "      <td>2019-05-11 19:42</td>\n",
       "      <td>상 품 a</td>\n",
       "      <td>NaN</td>\n",
       "      <td>김유찬</td>\n",
       "    </tr>\n",
       "    <tr>\n",
       "      <th>3</th>\n",
       "      <td>2019-02-12 23:40</td>\n",
       "      <td>상품Z</td>\n",
       "      <td>2600.0</td>\n",
       "      <td>김재현</td>\n",
       "    </tr>\n",
       "    <tr>\n",
       "      <th>4</th>\n",
       "      <td>2019-04-22 3:09</td>\n",
       "      <td>상품a</td>\n",
       "      <td>NaN</td>\n",
       "      <td>김강현</td>\n",
       "    </tr>\n",
       "  </tbody>\n",
       "</table>\n",
       "</div>"
      ],
      "text/plain": [
       "      purchase_date item_name  item_price customer_name\n",
       "0  2019-06-13 18:02       상품A       100.0           김가온\n",
       "1  2019-07-13 13:05     상 품 S         NaN           김우찬\n",
       "2  2019-05-11 19:42     상 품 a         NaN           김유찬\n",
       "3  2019-02-12 23:40       상품Z      2600.0           김재현\n",
       "4   2019-04-22 3:09       상품a         NaN           김강현"
      ]
     },
     "execution_count": 1,
     "metadata": {},
     "output_type": "execute_result"
    }
   ],
   "source": [
    "import pandas as pd\n",
    "\n",
    "#매출이력 데이터\n",
    "uriage_data=pd.read_csv('uriage.csv')\n",
    "uriage_data.head()"
   ]
  },
  {
   "cell_type": "code",
   "execution_count": 2,
   "id": "010f84a2",
   "metadata": {},
   "outputs": [
    {
     "data": {
      "text/html": [
       "<div>\n",
       "<style scoped>\n",
       "    .dataframe tbody tr th:only-of-type {\n",
       "        vertical-align: middle;\n",
       "    }\n",
       "\n",
       "    .dataframe tbody tr th {\n",
       "        vertical-align: top;\n",
       "    }\n",
       "\n",
       "    .dataframe thead th {\n",
       "        text-align: right;\n",
       "    }\n",
       "</style>\n",
       "<table border=\"1\" class=\"dataframe\">\n",
       "  <thead>\n",
       "    <tr style=\"text-align: right;\">\n",
       "      <th></th>\n",
       "      <th>고객이름</th>\n",
       "      <th>지역</th>\n",
       "      <th>등록일</th>\n",
       "    </tr>\n",
       "  </thead>\n",
       "  <tbody>\n",
       "    <tr>\n",
       "      <th>0</th>\n",
       "      <td>김 현성</td>\n",
       "      <td>H시</td>\n",
       "      <td>2018-01-04 00:00:00</td>\n",
       "    </tr>\n",
       "    <tr>\n",
       "      <th>1</th>\n",
       "      <td>김 도윤</td>\n",
       "      <td>E시</td>\n",
       "      <td>42782</td>\n",
       "    </tr>\n",
       "    <tr>\n",
       "      <th>2</th>\n",
       "      <td>김 지한</td>\n",
       "      <td>A시</td>\n",
       "      <td>2018-01-07 00:00:00</td>\n",
       "    </tr>\n",
       "    <tr>\n",
       "      <th>3</th>\n",
       "      <td>김 하윤</td>\n",
       "      <td>F시</td>\n",
       "      <td>42872</td>\n",
       "    </tr>\n",
       "    <tr>\n",
       "      <th>4</th>\n",
       "      <td>김 시온</td>\n",
       "      <td>E시</td>\n",
       "      <td>43127</td>\n",
       "    </tr>\n",
       "  </tbody>\n",
       "</table>\n",
       "</div>"
      ],
      "text/plain": [
       "   고객이름  지역                  등록일\n",
       "0  김 현성  H시  2018-01-04 00:00:00\n",
       "1  김 도윤  E시                42782\n",
       "2  김 지한  A시  2018-01-07 00:00:00\n",
       "3  김 하윤  F시                42872\n",
       "4  김 시온  E시                43127"
      ]
     },
     "execution_count": 2,
     "metadata": {},
     "output_type": "execute_result"
    }
   ],
   "source": [
    "kokyaku_data=pd.read_excel('kokyaku_daicho.xlsx')\n",
    "kokyaku_data.head()"
   ]
  },
  {
   "cell_type": "markdown",
   "id": "c0589048",
   "metadata": {},
   "source": [
    "## 데이터 오류 살펴보기\n",
    "### -> 상품A, 상 품 a, 상품a등 다른 상품으로 집계"
   ]
  },
  {
   "cell_type": "code",
   "execution_count": 3,
   "id": "1bd718d3",
   "metadata": {},
   "outputs": [
    {
     "data": {
      "text/plain": [
       "0      상품A\n",
       "1    상 품 S\n",
       "2    상 품 a\n",
       "3      상품Z\n",
       "4      상품a\n",
       "Name: item_name, dtype: object"
      ]
     },
     "execution_count": 3,
     "metadata": {},
     "output_type": "execute_result"
    }
   ],
   "source": [
    "uriage_data['item_name'].head()"
   ]
  },
  {
   "cell_type": "markdown",
   "id": "ab7d7deb",
   "metadata": {},
   "source": [
    "### -> 결측치 NaN을 확인"
   ]
  },
  {
   "cell_type": "code",
   "execution_count": 4,
   "id": "e5fde83e",
   "metadata": {},
   "outputs": [
    {
     "data": {
      "text/plain": [
       "0     100.0\n",
       "1       NaN\n",
       "2       NaN\n",
       "3    2600.0\n",
       "4       NaN\n",
       "Name: item_price, dtype: float64"
      ]
     },
     "execution_count": 4,
     "metadata": {},
     "output_type": "execute_result"
    }
   ],
   "source": [
    "uriage_data['item_price'].head()"
   ]
  },
  {
   "cell_type": "markdown",
   "id": "7ca92fcf",
   "metadata": {},
   "source": [
    "## 상품명 오류 수정하기"
   ]
  },
  {
   "cell_type": "code",
   "execution_count": 5,
   "id": "c77f31a8",
   "metadata": {},
   "outputs": [
    {
     "name": "stdout",
     "output_type": "stream",
     "text": [
      "99\n"
     ]
    }
   ],
   "source": [
    "print(len(pd.unique(uriage_data['item_name'])))"
   ]
  },
  {
   "cell_type": "code",
   "execution_count": 6,
   "id": "258e318c",
   "metadata": {},
   "outputs": [],
   "source": [
    "#전부 대문자로 변환\n",
    "uriage_data['item_name']=uriage_data['item_name'].str.upper()"
   ]
  },
  {
   "cell_type": "code",
   "execution_count": 7,
   "id": "26c540d0",
   "metadata": {},
   "outputs": [],
   "source": [
    "#공백 삭제\n",
    "uriage_data['item_name']=uriage_data['item_name'].str.replace(' ', '')\n",
    "uriage_data['item_name']=uriage_data['item_name'].str.replace('  ', '')"
   ]
  },
  {
   "cell_type": "code",
   "execution_count": 8,
   "id": "ba3e0e38",
   "metadata": {},
   "outputs": [
    {
     "data": {
      "text/html": [
       "<div>\n",
       "<style scoped>\n",
       "    .dataframe tbody tr th:only-of-type {\n",
       "        vertical-align: middle;\n",
       "    }\n",
       "\n",
       "    .dataframe tbody tr th {\n",
       "        vertical-align: top;\n",
       "    }\n",
       "\n",
       "    .dataframe thead th {\n",
       "        text-align: right;\n",
       "    }\n",
       "</style>\n",
       "<table border=\"1\" class=\"dataframe\">\n",
       "  <thead>\n",
       "    <tr style=\"text-align: right;\">\n",
       "      <th></th>\n",
       "      <th>purchase_date</th>\n",
       "      <th>item_name</th>\n",
       "      <th>item_price</th>\n",
       "      <th>customer_name</th>\n",
       "    </tr>\n",
       "  </thead>\n",
       "  <tbody>\n",
       "    <tr>\n",
       "      <th>0</th>\n",
       "      <td>2019-06-13 18:02</td>\n",
       "      <td>상품A</td>\n",
       "      <td>100.0</td>\n",
       "      <td>김가온</td>\n",
       "    </tr>\n",
       "    <tr>\n",
       "      <th>1748</th>\n",
       "      <td>2019-05-19 20:22</td>\n",
       "      <td>상품A</td>\n",
       "      <td>100.0</td>\n",
       "      <td>김시훈</td>\n",
       "    </tr>\n",
       "    <tr>\n",
       "      <th>223</th>\n",
       "      <td>2019-06-25 8:13</td>\n",
       "      <td>상품A</td>\n",
       "      <td>100.0</td>\n",
       "      <td>김유진</td>\n",
       "    </tr>\n",
       "    <tr>\n",
       "      <th>1742</th>\n",
       "      <td>2019-06-13 16:03</td>\n",
       "      <td>상품A</td>\n",
       "      <td>100.0</td>\n",
       "      <td>김건희</td>\n",
       "    </tr>\n",
       "    <tr>\n",
       "      <th>1738</th>\n",
       "      <td>2019-02-10 0:28</td>\n",
       "      <td>상품A</td>\n",
       "      <td>100.0</td>\n",
       "      <td>김하랑</td>\n",
       "    </tr>\n",
       "    <tr>\n",
       "      <th>...</th>\n",
       "      <td>...</td>\n",
       "      <td>...</td>\n",
       "      <td>...</td>\n",
       "      <td>...</td>\n",
       "    </tr>\n",
       "    <tr>\n",
       "      <th>2880</th>\n",
       "      <td>2019-04-22 0:36</td>\n",
       "      <td>상품Y</td>\n",
       "      <td>NaN</td>\n",
       "      <td>김동욱</td>\n",
       "    </tr>\n",
       "    <tr>\n",
       "      <th>2881</th>\n",
       "      <td>2019-04-30 14:21</td>\n",
       "      <td>상품Y</td>\n",
       "      <td>NaN</td>\n",
       "      <td>김하준</td>\n",
       "    </tr>\n",
       "    <tr>\n",
       "      <th>1525</th>\n",
       "      <td>2019-01-24 10:27</td>\n",
       "      <td>상품Y</td>\n",
       "      <td>2500.0</td>\n",
       "      <td>김범준</td>\n",
       "    </tr>\n",
       "    <tr>\n",
       "      <th>1361</th>\n",
       "      <td>2019-05-28 13:45</td>\n",
       "      <td>상품Y</td>\n",
       "      <td>2500.0</td>\n",
       "      <td>김수현</td>\n",
       "    </tr>\n",
       "    <tr>\n",
       "      <th>3</th>\n",
       "      <td>2019-02-12 23:40</td>\n",
       "      <td>상품Z</td>\n",
       "      <td>2600.0</td>\n",
       "      <td>김재현</td>\n",
       "    </tr>\n",
       "  </tbody>\n",
       "</table>\n",
       "<p>2999 rows × 4 columns</p>\n",
       "</div>"
      ],
      "text/plain": [
       "         purchase_date item_name  item_price customer_name\n",
       "0     2019-06-13 18:02       상품A       100.0           김가온\n",
       "1748  2019-05-19 20:22       상품A       100.0           김시훈\n",
       "223    2019-06-25 8:13       상품A       100.0           김유진\n",
       "1742  2019-06-13 16:03       상품A       100.0           김건희\n",
       "1738   2019-02-10 0:28       상품A       100.0           김하랑\n",
       "...                ...       ...         ...           ...\n",
       "2880   2019-04-22 0:36       상품Y         NaN           김동욱\n",
       "2881  2019-04-30 14:21       상품Y         NaN           김하준\n",
       "1525  2019-01-24 10:27       상품Y      2500.0           김범준\n",
       "1361  2019-05-28 13:45       상품Y      2500.0           김수현\n",
       "3     2019-02-12 23:40       상품Z      2600.0           김재현\n",
       "\n",
       "[2999 rows x 4 columns]"
      ]
     },
     "execution_count": 8,
     "metadata": {},
     "output_type": "execute_result"
    }
   ],
   "source": [
    "#오름차순으로 정렬\n",
    "uriage_data.sort_values(by=['item_name'], ascending=True)"
   ]
  },
  {
   "cell_type": "code",
   "execution_count": 9,
   "id": "00eaf429",
   "metadata": {},
   "outputs": [
    {
     "name": "stdout",
     "output_type": "stream",
     "text": [
      "26\n"
     ]
    }
   ],
   "source": [
    "print(len(pd.unique(uriage_data['item_name'])))\n",
    "#99->26개로 오류를 수정한 것을 확인"
   ]
  },
  {
   "cell_type": "markdown",
   "id": "8d5e38cb",
   "metadata": {},
   "source": [
    "## 금액의 결측치 수정"
   ]
  },
  {
   "cell_type": "code",
   "execution_count": 11,
   "id": "7e70a2e1",
   "metadata": {},
   "outputs": [
    {
     "data": {
      "text/plain": [
       "purchase_date    False\n",
       "item_name        False\n",
       "item_price        True\n",
       "customer_name    False\n",
       "dtype: bool"
      ]
     },
     "execution_count": 11,
     "metadata": {},
     "output_type": "execute_result"
    }
   ],
   "source": [
    "uriage_data.isnull().any(axis=0)"
   ]
  },
  {
   "cell_type": "code",
   "execution_count": 16,
   "id": "c5d12fd2",
   "metadata": {},
   "outputs": [
    {
     "data": {
      "text/html": [
       "<div>\n",
       "<style scoped>\n",
       "    .dataframe tbody tr th:only-of-type {\n",
       "        vertical-align: middle;\n",
       "    }\n",
       "\n",
       "    .dataframe tbody tr th {\n",
       "        vertical-align: top;\n",
       "    }\n",
       "\n",
       "    .dataframe thead th {\n",
       "        text-align: right;\n",
       "    }\n",
       "</style>\n",
       "<table border=\"1\" class=\"dataframe\">\n",
       "  <thead>\n",
       "    <tr style=\"text-align: right;\">\n",
       "      <th></th>\n",
       "      <th>purchase_date</th>\n",
       "      <th>item_name</th>\n",
       "      <th>item_price</th>\n",
       "      <th>customer_name</th>\n",
       "    </tr>\n",
       "  </thead>\n",
       "  <tbody>\n",
       "    <tr>\n",
       "      <th>0</th>\n",
       "      <td>2019-06-13 18:02</td>\n",
       "      <td>상품A</td>\n",
       "      <td>100.0</td>\n",
       "      <td>김가온</td>\n",
       "    </tr>\n",
       "    <tr>\n",
       "      <th>1</th>\n",
       "      <td>2019-07-13 13:05</td>\n",
       "      <td>상품S</td>\n",
       "      <td>1900.0</td>\n",
       "      <td>김우찬</td>\n",
       "    </tr>\n",
       "    <tr>\n",
       "      <th>2</th>\n",
       "      <td>2019-05-11 19:42</td>\n",
       "      <td>상품A</td>\n",
       "      <td>100.0</td>\n",
       "      <td>김유찬</td>\n",
       "    </tr>\n",
       "    <tr>\n",
       "      <th>3</th>\n",
       "      <td>2019-02-12 23:40</td>\n",
       "      <td>상품Z</td>\n",
       "      <td>2600.0</td>\n",
       "      <td>김재현</td>\n",
       "    </tr>\n",
       "    <tr>\n",
       "      <th>4</th>\n",
       "      <td>2019-04-22 3:09</td>\n",
       "      <td>상품A</td>\n",
       "      <td>100.0</td>\n",
       "      <td>김강현</td>\n",
       "    </tr>\n",
       "  </tbody>\n",
       "</table>\n",
       "</div>"
      ],
      "text/plain": [
       "      purchase_date item_name  item_price customer_name\n",
       "0  2019-06-13 18:02       상품A       100.0           김가온\n",
       "1  2019-07-13 13:05       상품S      1900.0           김우찬\n",
       "2  2019-05-11 19:42       상품A       100.0           김유찬\n",
       "3  2019-02-12 23:40       상품Z      2600.0           김재현\n",
       "4   2019-04-22 3:09       상품A       100.0           김강현"
      ]
     },
     "execution_count": 16,
     "metadata": {},
     "output_type": "execute_result"
    }
   ],
   "source": [
    "#결측치를 저장, 몇행에 결측치가 있는지 저장\n",
    "fig_is_null=uriage_data['item_price'].isnull()\n",
    "fig_is_null=fig_is_null.copy()\n",
    "\n",
    "#결측치인 상품 추출\n",
    "#unique() : 추출한 상품명에서 중복을 제거\n",
    "#list() : 변수의 값을 리스트 형식으로 변환\n",
    "#loc : 조건에 일치하는 데이터를 추출\n",
    "for trg in list(uriage_data.loc[fig_is_null, 'item_name'].unique()):\n",
    "    price=uriage_data.loc[(~fig_is_null)&(uriage_data['item_name']==trg), 'item_price'].max()\n",
    "    uriage_data['item_price'].loc[(fig_is_null)&(uriage_data['item_name']==trg)]=price\n",
    "uriage_data.head()"
   ]
  },
  {
   "cell_type": "code",
   "execution_count": 17,
   "id": "2c4ca425",
   "metadata": {},
   "outputs": [
    {
     "data": {
      "text/plain": [
       "purchase_date    False\n",
       "item_name        False\n",
       "item_price       False\n",
       "customer_name    False\n",
       "dtype: bool"
      ]
     },
     "execution_count": 17,
     "metadata": {},
     "output_type": "execute_result"
    }
   ],
   "source": [
    "#NaN이 사라졌나 확인\n",
    "uriage_data.isnull().any(axis=0)"
   ]
  },
  {
   "cell_type": "code",
   "execution_count": 19,
   "id": "3e992a44",
   "metadata": {},
   "outputs": [
    {
     "name": "stdout",
     "output_type": "stream",
     "text": [
      "상품A의 최고가 : 100.0의 최저가 : 100.0\n",
      "상품B의 최고가 : 200.0의 최저가 : 200.0\n",
      "상품C의 최고가 : 300.0의 최저가 : 300.0\n",
      "상품D의 최고가 : 400.0의 최저가 : 400.0\n",
      "상품E의 최고가 : 500.0의 최저가 : 500.0\n",
      "상품F의 최고가 : 600.0의 최저가 : 600.0\n",
      "상품G의 최고가 : 700.0의 최저가 : 700.0\n",
      "상품H의 최고가 : 800.0의 최저가 : 800.0\n",
      "상품I의 최고가 : 900.0의 최저가 : 900.0\n",
      "상품J의 최고가 : 1000.0의 최저가 : 1000.0\n",
      "상품K의 최고가 : 1100.0의 최저가 : 1100.0\n",
      "상품L의 최고가 : 1200.0의 최저가 : 1200.0\n",
      "상품M의 최고가 : 1300.0의 최저가 : 1300.0\n",
      "상품N의 최고가 : 1400.0의 최저가 : 1400.0\n",
      "상품O의 최고가 : 1500.0의 최저가 : 1500.0\n",
      "상품P의 최고가 : 1600.0의 최저가 : 1600.0\n",
      "상품Q의 최고가 : 1700.0의 최저가 : 1700.0\n",
      "상품R의 최고가 : 1800.0의 최저가 : 1800.0\n",
      "상품S의 최고가 : 1900.0의 최저가 : 1900.0\n",
      "상품T의 최고가 : 2000.0의 최저가 : 2000.0\n",
      "상품U의 최고가 : 2100.0의 최저가 : 2100.0\n",
      "상품V의 최고가 : 2200.0의 최저가 : 2200.0\n",
      "상품W의 최고가 : 2300.0의 최저가 : 2300.0\n",
      "상품X의 최고가 : 2400.0의 최저가 : 2400.0\n",
      "상품Y의 최고가 : 2500.0의 최저가 : 2500.0\n",
      "상품Z의 최고가 : 2600.0의 최저가 : 2600.0\n"
     ]
    }
   ],
   "source": [
    "#금액이 정상적으로 수정되었는지 확인\n",
    "for trg in list(uriage_data['item_name'].sort_values().unique()):\n",
    "    print(trg + '의 최고가 : '+str(uriage_data.loc[uriage_data['item_name']==trg]['item_price'].max())+'의 최저가 : '+str(uriage_data.loc[uriage_data['item_name']==trg]['item_price'].min(skipna=False)))"
   ]
  },
  {
   "cell_type": "markdown",
   "id": "eaf357b0",
   "metadata": {},
   "source": [
    "## 고객 이름 오류 수정하기"
   ]
  },
  {
   "cell_type": "code",
   "execution_count": 21,
   "id": "0b5a0948",
   "metadata": {},
   "outputs": [
    {
     "data": {
      "text/plain": [
       "0    김 현성\n",
       "1    김 도윤\n",
       "2    김 지한\n",
       "3    김 하윤\n",
       "4    김 시온\n",
       "Name: 고객이름, dtype: object"
      ]
     },
     "execution_count": 21,
     "metadata": {},
     "output_type": "execute_result"
    }
   ],
   "source": [
    "kokyaku_data['고객이름'].head()"
   ]
  },
  {
   "cell_type": "code",
   "execution_count": 22,
   "id": "c03d5f83",
   "metadata": {},
   "outputs": [
    {
     "data": {
      "text/plain": [
       "0    김가온\n",
       "1    김우찬\n",
       "2    김유찬\n",
       "3    김재현\n",
       "4    김강현\n",
       "Name: customer_name, dtype: object"
      ]
     },
     "execution_count": 22,
     "metadata": {},
     "output_type": "execute_result"
    }
   ],
   "source": [
    "uriage_data['customer_name'].head()"
   ]
  },
  {
   "cell_type": "code",
   "execution_count": 24,
   "id": "fbf655e4",
   "metadata": {},
   "outputs": [
    {
     "data": {
      "text/plain": [
       "0    김현성\n",
       "1    김도윤\n",
       "2    김지한\n",
       "3    김하윤\n",
       "4    김시온\n",
       "Name: 고객이름, dtype: object"
      ]
     },
     "execution_count": 24,
     "metadata": {},
     "output_type": "execute_result"
    }
   ],
   "source": [
    "kokyaku_data['고객이름']=kokyaku_data['고객이름'].str.replace(' ', '')\n",
    "kokyaku_data['고객이름']=kokyaku_data['고객이름'].str.replace('  ', '')\n",
    "kokyaku_data['고객이름'].head()"
   ]
  },
  {
   "cell_type": "markdown",
   "id": "756e74f0",
   "metadata": {},
   "source": [
    "## 날짜 오류 수정하기"
   ]
  },
  {
   "cell_type": "code",
   "execution_count": 28,
   "id": "196e70e1",
   "metadata": {},
   "outputs": [
    {
     "data": {
      "text/plain": [
       "22"
      ]
     },
     "execution_count": 28,
     "metadata": {},
     "output_type": "execute_result"
    }
   ],
   "source": [
    "fig_is_serial=kokyaku_data['등록일'].astype('str').str.isdigit()\n",
    "fig_is_serial.sum()"
   ]
  },
  {
   "cell_type": "code",
   "execution_count": null,
   "id": "27d32368",
   "metadata": {},
   "outputs": [],
   "source": []
  }
 ],
 "metadata": {
  "kernelspec": {
   "display_name": "Python 3 (ipykernel)",
   "language": "python",
   "name": "python3"
  },
  "language_info": {
   "codemirror_mode": {
    "name": "ipython",
    "version": 3
   },
   "file_extension": ".py",
   "mimetype": "text/x-python",
   "name": "python",
   "nbconvert_exporter": "python",
   "pygments_lexer": "ipython3",
   "version": "3.8.5"
  }
 },
 "nbformat": 4,
 "nbformat_minor": 5
}
